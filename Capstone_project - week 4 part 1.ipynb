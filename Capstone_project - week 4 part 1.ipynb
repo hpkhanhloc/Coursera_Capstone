{
 "cells": [
  {
   "cell_type": "markdown",
   "metadata": {},
   "source": [
    "<h1 align = 'center'> CAPSTONE PROJECT - WEEK 4</h1>\n",
    "<h3 align = 'center'>This notebook is a part of Capstone project in the course Data Scientist at Coursera</h3>"
   ]
  },
  {
   "cell_type": "markdown",
   "metadata": {},
   "source": [
    "<h4>1. Introduction</h4>"
   ]
  },
  {
   "cell_type": "markdown",
   "metadata": {},
   "source": [
    "Greater Helsinki is the metropolitan area surrounding Helsinki, the capital city of Finland.\n",
    "The Greater Helsinki region is the largest urbanised area in the country with 1,495,271 inhabitants and is by far the most important economic, cultural, and scientific region of Finland. Five out of Finland's 15 universities and most of the headquarters of notable companies and governmental institutions are located in Greater Helsinki.\n",
    "\n",
    "<b>Business problem</b>\n",
    "As a result, there are many opportunities as well as challenges for stakeholders when coming up with starting their business in this area.\n",
    "In this project scale, we will analyse and select the best location among Greater Helsinki to open a restaurant.\n",
    "Clustering technique will be used to solve the question above.\n",
    "\n",
    "<b>Target Audience</b>\n",
    "This project is particularly useful to property developers and investors looking to open or invest in\n",
    "new restaurant in the Greater Helsinki. "
   ]
  },
  {
   "cell_type": "code",
   "execution_count": null,
   "metadata": {},
   "outputs": [],
   "source": []
  }
 ],
 "metadata": {
  "kernelspec": {
   "display_name": "Python 3",
   "language": "python",
   "name": "python3"
  },
  "language_info": {
   "codemirror_mode": {
    "name": "ipython",
    "version": 3
   },
   "file_extension": ".py",
   "mimetype": "text/x-python",
   "name": "python",
   "nbconvert_exporter": "python",
   "pygments_lexer": "ipython3",
   "version": "3.7.3"
  }
 },
 "nbformat": 4,
 "nbformat_minor": 2
}
