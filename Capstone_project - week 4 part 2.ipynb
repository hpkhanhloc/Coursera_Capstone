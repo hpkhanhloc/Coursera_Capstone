{
 "cells": [
  {
   "cell_type": "markdown",
   "metadata": {},
   "source": [
    "<h1 align = 'center'> CAPSTONE PROJECT - WEEK 4</h1>\n",
    "<h3 align = 'center'>This notebook is a part of Capstone project in the course Data Scientist at Coursera</h3>"
   ]
  },
  {
   "cell_type": "markdown",
   "metadata": {},
   "source": [
    "<h4>1. Introduction</h4>"
   ]
  },
  {
   "cell_type": "markdown",
   "metadata": {},
   "source": [
    "Greater Helsinki is the metropolitan area surrounding Helsinki, the capital city of Finland.\n",
    "The Greater Helsinki region is the largest urbanised area in the country with 1,495,271 inhabitants and is by far the most important economic, cultural, and scientific region of Finland. Five out of Finland's 15 universities and most of the headquarters of notable companies and governmental institutions are located in Greater Helsinki.\n",
    "\n",
    "<b>Business problem</b>\n",
    "As a result, there are many opportunities as well as challenges for stakeholders when coming up with starting their business in this area.\n",
    "In this project scale, we will analyse and select the best location among Greater Helsinki to open a restaurant.\n",
    "Clustering technique will be used to solve the question above.\n",
    "\n",
    "<b>Target Audience</b>\n",
    "This project is particularly useful to property developers and investors looking to open or invest in\n",
    "new restaurant in the Greater Helsinki. "
   ]
  },
  {
   "cell_type": "markdown",
   "metadata": {},
   "source": [
    "<h4>2. Data section</h4>"
   ]
  },
  {
   "cell_type": "markdown",
   "metadata": {},
   "source": [
    "<b>To solve this data we will need the following data:</b>\n",
    "<ul>\n",
    "    <li>List of sub-city in Greater Helsinki. We can find the information in Wekipedia: <a>https://en.wikipedia.org/wiki/Greater_Helsinki</a>.</li>\n",
    "    <li>Latitude and longtitude of each neighborhoods. We will get the geographical coordinates of the neighbourhoods using\n",
    "Python Geocoder package which will give us the latitude and longitude coordinates of the\n",
    "neighbourhoods.</li>\n",
    "    <li>Venues data, particularly data related to restaurant. We will use Foursquare API to get the venue data for those neighbourhoods.It will provide many categories of the venue data, we are particularly interested in the\n",
    "restaurant category in order to help us to solve the business problem.</li>\n",
    "</ul>    "
   ]
  },
  {
   "cell_type": "markdown",
   "metadata": {},
   "source": []
  }
 ],
 "metadata": {
  "kernelspec": {
   "display_name": "Python 3",
   "language": "python",
   "name": "python3"
  },
  "language_info": {
   "codemirror_mode": {
    "name": "ipython",
    "version": 3
   },
   "file_extension": ".py",
   "mimetype": "text/x-python",
   "name": "python",
   "nbconvert_exporter": "python",
   "pygments_lexer": "ipython3",
   "version": "3.7.3"
  }
 },
 "nbformat": 4,
 "nbformat_minor": 2
}
